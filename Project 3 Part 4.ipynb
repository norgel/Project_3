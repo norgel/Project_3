{
 "cells": [
  {
   "cell_type": "markdown",
   "id": "fed98594",
   "metadata": {},
   "source": [
    "# Project 3 - Part 4\n",
    "\n",
    "Author: Nicholas Orgel\n",
    "    \n",
    "Date: 03/15/2023"
   ]
  },
  {
   "cell_type": "markdown",
   "id": "92ac4fdb",
   "metadata": {},
   "source": [
    "## Questions to Answer\n",
    "The stakeholder's first question is: does the MPAA rating of a movie (G/PG/PG-13/R) affect how much revenue the movie generates?\n",
    "\n",
    "They want you to perform a statistical test to get a mathematically-supported answer.\n",
    "They want you to report if you found a significant difference between ratings.\n",
    "If so, what was the p-value of your analysis?\n",
    "And which rating earns the most revenue?\n",
    "They want you to prepare a visualization that supports your finding.\n",
    "It is then up to you to think of 2 additional hypotheses to test that your stakeholder may want to know.\n",
    "\n",
    "**Some example hypotheses you could test:**\n",
    "\n",
    "- Do movies that are over 2.5 hours long earn more revenue than movies that are 1.5 hours long (or less)?\n",
    "- Do movies released in 2020 earn less revenue than movies released in 2018?\n",
    "- How do the years compare for movie ratings?\n",
    "- Do some movie genres earn more revenue than others?\n",
    "- Are some genres higher rated than others?\n",
    "- etc."
   ]
  },
  {
   "cell_type": "code",
   "execution_count": null,
   "id": "6792ecc6",
   "metadata": {},
   "outputs": [],
   "source": []
  }
 ],
 "metadata": {
  "kernelspec": {
   "display_name": "Python (dojo-env)",
   "language": "python",
   "name": "dojo-env"
  },
  "language_info": {
   "codemirror_mode": {
    "name": "ipython",
    "version": 3
   },
   "file_extension": ".py",
   "mimetype": "text/x-python",
   "name": "python",
   "nbconvert_exporter": "python",
   "pygments_lexer": "ipython3",
   "version": "3.9.15"
  },
  "toc": {
   "base_numbering": 1,
   "nav_menu": {},
   "number_sections": false,
   "sideBar": true,
   "skip_h1_title": false,
   "title_cell": "Table of Contents",
   "title_sidebar": "Contents",
   "toc_cell": false,
   "toc_position": {},
   "toc_section_display": true,
   "toc_window_display": false
  }
 },
 "nbformat": 4,
 "nbformat_minor": 5
}
