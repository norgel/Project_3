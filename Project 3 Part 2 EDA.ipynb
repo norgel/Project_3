{
 "cells": [
  {
   "cell_type": "code",
   "execution_count": 1,
   "id": "006ea0c2",
   "metadata": {},
   "outputs": [],
   "source": [
    "# Load Libraries\n",
    "import pandas as pd\n",
    "import numpy as np\n",
    "import os, json, math, time\n",
    "\n",
    "from tqdm.notebook import tqdm_notebook"
   ]
  },
  {
   "cell_type": "markdown",
   "id": "7382f575",
   "metadata": {},
   "source": [
    "# Exploratory Data Analysis\n",
    "Load in your csv.gz's of results for each year extracted.\n",
    "- [ ] Concatenate the data into 1 dataframe for the remainder of the analysis.\n",
    "Once you have your data from the API, they would like you to perform some light EDA to show:\n",
    "1. How many movies had at least some valid financial information (values > 0 for budget OR revenue)?\n",
    "Please exclude any movies with 0's for budget AND revenue from the remaining visualizations.\n",
    "2. How many movies are there in each of the certification categories (G/PG/PG-13/R)?\n",
    "3. What is the average revenue per certification category?\n",
    "4. What is the average budget per certification category?"
   ]
  },
  {
   "cell_type": "code",
   "execution_count": null,
   "id": "7f558674",
   "metadata": {},
   "outputs": [],
   "source": [
    "df2000 = pd.read_csv(\"Data/\")\n",
    "df2001 = pd.read_csv(\"Data/\")"
   ]
  },
  {
   "cell_type": "code",
   "execution_count": null,
   "id": "7af09915",
   "metadata": {},
   "outputs": [],
   "source": [
    "df = pd.concat([df2000, df2001])"
   ]
  }
 ],
 "metadata": {
  "kernelspec": {
   "display_name": "Python (dojo-env)",
   "language": "python",
   "name": "dojo-env"
  },
  "language_info": {
   "codemirror_mode": {
    "name": "ipython",
    "version": 3
   },
   "file_extension": ".py",
   "mimetype": "text/x-python",
   "name": "python",
   "nbconvert_exporter": "python",
   "pygments_lexer": "ipython3",
   "version": "3.9.15"
  },
  "toc": {
   "base_numbering": 1,
   "nav_menu": {},
   "number_sections": false,
   "sideBar": true,
   "skip_h1_title": false,
   "title_cell": "Table of Contents",
   "title_sidebar": "Contents",
   "toc_cell": false,
   "toc_position": {},
   "toc_section_display": true,
   "toc_window_display": false
  }
 },
 "nbformat": 4,
 "nbformat_minor": 5
}
